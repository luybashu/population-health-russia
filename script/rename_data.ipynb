{
 "cells": [
  {
   "cell_type": "markdown",
   "id": "fef350da-7f1e-428f-8dde-ca3d5a022a6d",
   "metadata": {},
   "source": [
    "## Data Preparation"
   ]
  },
  {
   "cell_type": "code",
   "execution_count": 2,
   "id": "bbc34084-0081-49d6-885e-a8a358791c8a",
   "metadata": {},
   "outputs": [],
   "source": [
    "# import libraries\n",
    "import datetime as dt\n",
    "import os\n",
    "import re\n",
    "import warnings\n",
    "warnings.filterwarnings('ignore')\n",
    "\n",
    "import pandas as pd\n",
    "import seaborn as sns\n",
    "import matplotlib.pyplot as plt\n",
    "import numpy as np\n",
    "import pandas as pd"
   ]
  },
  {
   "cell_type": "code",
   "execution_count": 3,
   "id": "60238cd3-a260-40d8-a2bb-ec9a113a7cc4",
   "metadata": {},
   "outputs": [],
   "source": [
    "# set data path\n",
    "PATH = os.path.join('..', 'data/datasets')"
   ]
  },
  {
   "cell_type": "markdown",
   "id": "250552fc-c549-417d-be62-5c08fdc950b9",
   "metadata": {},
   "source": [
    "### Filenames. \"Hash\" to Real Filename\n",
    "\n",
    "Many table names use a hash instead of a real name, but there is a file available with the \"decodings\" (*names_mapping.csv*). Let's replace the hashed names with their real filenames."
   ]
  },
  {
   "cell_type": "code",
   "execution_count": 4,
   "id": "db8df3f5-f3f5-4455-b47e-e029d226d59d",
   "metadata": {
    "scrolled": true
   },
   "outputs": [],
   "source": [
    "for subdir in os.listdir(PATH):\n",
    "   subdir_path = os.path.join(PATH, subdir)\n",
    "   if os.path.isdir(subdir_path):\n",
    "       \n",
    "       # check if the mapping file exists in the current subdirectory\n",
    "       mapping_file = os.path.join(subdir_path, 'names_mapping.csv')\n",
    "       print(subdir)\n",
    "       if os.path.exists(mapping_file):\n",
    "           mapping_df = pd.read_csv(mapping_file)\n",
    "           hash_to_name = dict(zip(mapping_df['hash'], mapping_df['table_name']))\n",
    "\n",
    "           for filename in os.listdir(subdir_path):\n",
    "               file_base_name = os.path.splitext(filename)[0]         # strip the .csv extension\n",
    "               if file_base_name in hash_to_name: \n",
    "                   file_path = os.path.join(subdir_path, filename)\n",
    "                   real_name = hash_to_name[file_base_name] + '.csv'  # add the .csv extension to the real name\n",
    "                   new_file_path = os.path.join(subdir_path, real_name)\n",
    "                   os.rename(file_path, new_file_path)\n",
    "                   print(f'Renamed: {file_path} -> {new_file_path}')\n",
    "       else:\n",
    "           print('Mapping file does not exist')"
   ]
  },
  {
   "cell_type": "markdown",
   "id": "223a66b2-170f-418a-9e05-fceeb310554e",
   "metadata": {},
   "source": [
    "### Change Filenames\n",
    "\n",
    "In the data from different years, there are tables covering the same topics, but their names may vary slightly. By using the table names from the most recent year as a reference, we will rename all the tables, keeping only their numbers. This will make it easier to navigate the data in the future."
   ]
  },
  {
   "cell_type": "code",
   "execution_count": 5,
   "id": "bd34f2ef-cd35-4f15-b87a-6eda22cbea72",
   "metadata": {},
   "outputs": [],
   "source": [
    "# regular expression pattern for matching filenames\n",
    "# capture one digit at the start of the string before the period and 1 or 2 digits after the period\n",
    "\n",
    "pattern = re.compile(r'^(\\d)\\.(\\d{1,2})') \n",
    "\n",
    "for subdir in os.listdir(PATH):\n",
    "   subdir_path = os.path.join(PATH, subdir)\n",
    "   if os.path.isdir(subdir_path):\n",
    "       for filename in os.listdir(subdir_path):\n",
    "           # check and rename files matching the pattern\n",
    "           match = pattern.match(filename)\n",
    "           if match:\n",
    "               file_path = os.path.join(subdir_path, filename)\n",
    "               new_name = f\"{match.group(1)}_{match.group(2)}.csv\"\n",
    "               new_file_path = os.path.join(subdir_path, new_name)\n",
    "               os.rename(file_path, new_file_path)"
   ]
  },
  {
   "cell_type": "code",
   "execution_count": null,
   "id": "061fbdd3-9e03-4fb1-84b5-b0949999d675",
   "metadata": {},
   "outputs": [],
   "source": []
  },
  {
   "cell_type": "markdown",
   "id": "a6a5dfcc-0190-4167-85fa-f4d3313f6e27",
   "metadata": {},
   "source": [
    "### Merge files with two parts\n",
    "Some tables consisted of two parts, which were merged before loading the data."
   ]
  },
  {
   "cell_type": "code",
   "execution_count": null,
   "id": "c17a9add-7cd9-4e31-abbb-39a05a01b163",
   "metadata": {},
   "outputs": [],
   "source": [
    "def concat_tables(year, filename1='2_1_reg_1.csv', filename2='2_1_reg_2.csv', newfilname='2_1_reg.csv'):\n",
    "    df_1 = pd.read_csv(os.path.join(*[PATH], year, filename1), header = [1], encoding='utf-8')\n",
    "    df_2 = pd.read_csv(os.path.join(*[PATH], year, filename2), header = [1], encoding='utf-8')\n",
    "    df = pd.concat([df_1, df_2.iloc[:, 1:]], axis=1)\n",
    "    path = os.path.join(*[PATH], year, newfilname)\n",
    "    return df.to_csv(path, index=False)"
   ]
  },
  {
   "cell_type": "code",
   "execution_count": null,
   "id": "6ec6a6b3-f917-45f6-9d86-b039c4feb702",
   "metadata": {},
   "outputs": [],
   "source": [
    "for year in ['2001', '2007', '2009', '2011']:\n",
    "    print('\\033[1m'+year+'\\033[0m')\n",
    "    print('___________________')\n",
    "\n",
    "    if year == '2001':\n",
    "        concat_tables(year)\n",
    "        print(f'File created successfully')\n",
    "        concat_tables(year, filename1='2_1_reg_1995,1998_1.csv', filename2='2_1_reg_1995,1998_2.csv', newfilname='2_1_reg_old.csv')\n",
    "        print(f'File for 1995 created successfully')\n",
    "    else:\n",
    "        concat_tables(year)\n",
    "        print(f'File created successfully')"
   ]
  },
  {
   "cell_type": "markdown",
   "id": "33f5a051-ab5d-4695-8a23-93fa71225571",
   "metadata": {},
   "source": [
    "## Conclusion\n",
    "Not all tables from previous years (mainly before 2013) have the same numbers for the same names as in the most recent version. Tables without numbers, with mismatched numbers, and those with non-renamed hashed names (in some cases, the mapping file was empty but hashed names were present; sometimes, the mapping file name itself was a hash) were renamed manually. Not all years contain the same set of tables; for example, after 2013, there are no tables with regional data."
   ]
  }
 ],
 "metadata": {
  "kernelspec": {
   "display_name": "Python 3 (ipykernel)",
   "language": "python",
   "name": "python3"
  },
  "language_info": {
   "codemirror_mode": {
    "name": "ipython",
    "version": 3
   },
   "file_extension": ".py",
   "mimetype": "text/x-python",
   "name": "python",
   "nbconvert_exporter": "python",
   "pygments_lexer": "ipython3",
   "version": "3.10.13"
  }
 },
 "nbformat": 4,
 "nbformat_minor": 5
}
